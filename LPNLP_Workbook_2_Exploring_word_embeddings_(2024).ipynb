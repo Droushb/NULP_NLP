{
  "nbformat": 4,
  "nbformat_minor": 0,
  "metadata": {
    "kernelspec": {
      "display_name": "Python 3",
      "language": "python",
      "name": "python3"
    },
    "language_info": {
      "codemirror_mode": {
        "name": "ipython",
        "version": 3
      },
      "file_extension": ".py",
      "mimetype": "text/x-python",
      "name": "python",
      "nbconvert_exporter": "python",
      "pygments_lexer": "ipython3",
      "version": "3.7.6"
    },
    "colab": {
      "provenance": [],
      "collapsed_sections": [
        "6bLSgXhBp_ik",
        "0qdP0X3Op_il",
        "0HMdK4nwp_in",
        "Q_5QUDc8p_io",
        "JWyNFYd7p_iq"
      ],
      "include_colab_link": true
    }
  },
  "cells": [
    {
      "cell_type": "markdown",
      "metadata": {
        "id": "view-in-github",
        "colab_type": "text"
      },
      "source": [
        "<a href=\"https://colab.research.google.com/github/Droushb/NULP_NLP/blob/main/LPNLP_Workbook_2_Exploring_word_embeddings_(2024).ipynb\" target=\"_parent\"><img src=\"https://colab.research.google.com/assets/colab-badge.svg\" alt=\"Open In Colab\"/></a>"
      ]
    },
    {
      "cell_type": "markdown",
      "metadata": {
        "id": "eiiDM1V8p_iX"
      },
      "source": [
        "# Workbook 02: Exploring word embeddings\n",
        "\n",
        "В цій лабораторній ми детальніше розберемося з векторним представленням слів (word embeddings), а саме:\n",
        "\n",
        "- Завантажимо вектори GloVe\n",
        "- Перевіримо цікаві властивості цих векторів\n",
        "\n",
        "У вас буде кілька завдань. Відповіді на завдання відправляють функції `lab.checkpoint()` та `lab.answer()`.\n",
        "\n",
        "Для початку, заповніть параметр `email` нижче:"
      ]
    },
    {
      "cell_type": "code",
      "source": [
        "!pip install --quiet --ignore-installed http://nlp.band/static/pypy/lpnlp-2023.10.2-py3-none-any.whl"
      ],
      "metadata": {
        "id": "zBBM2S6_jI8r"
      },
      "execution_count": 1,
      "outputs": []
    },
    {
      "cell_type": "code",
      "metadata": {
        "id": "udSrPPaHp_id",
        "outputId": "6ac93755-3403-4ae8-a529-64758d00daad",
        "colab": {
          "base_uri": "https://localhost:8080/"
        }
      },
      "source": [
        "import lpnlp\n",
        "lab = lpnlp.start(\n",
        "    email=\"bohdan.drushkevych.kn.2021@lpnu.ua\",  # <---------------------- Заповніть це поле\n",
        "    lab=\"exploring_word_embeddings\",\n",
        "    )\n"
      ],
      "execution_count": 2,
      "outputs": [
        {
          "output_type": "stream",
          "name": "stdout",
          "text": [
            "Удачі!\n"
          ]
        }
      ]
    },
    {
      "cell_type": "markdown",
      "metadata": {
        "id": "tdb5yxDGp_ig"
      },
      "source": [
        "# GloVe"
      ]
    },
    {
      "cell_type": "code",
      "metadata": {
        "collapsed": true,
        "id": "ZQ5JifvDp_ig",
        "outputId": "f3d60fca-ab09-4e87-a85a-cb0c7abf84af",
        "colab": {
          "base_uri": "https://localhost:8080/"
        }
      },
      "source": [
        "!pip install gensim"
      ],
      "execution_count": 3,
      "outputs": [
        {
          "output_type": "stream",
          "name": "stdout",
          "text": [
            "Requirement already satisfied: gensim in /usr/local/lib/python3.10/dist-packages (4.3.3)\n",
            "Requirement already satisfied: numpy<2.0,>=1.18.5 in /usr/local/lib/python3.10/dist-packages (from gensim) (1.26.4)\n",
            "Requirement already satisfied: scipy<1.14.0,>=1.7.0 in /usr/local/lib/python3.10/dist-packages (from gensim) (1.13.1)\n",
            "Requirement already satisfied: smart-open>=1.8.1 in /usr/local/lib/python3.10/dist-packages (from gensim) (7.0.4)\n",
            "Requirement already satisfied: wrapt in /usr/local/lib/python3.10/dist-packages (from smart-open>=1.8.1->gensim) (1.16.0)\n"
          ]
        }
      ]
    },
    {
      "cell_type": "markdown",
      "metadata": {
        "id": "KESE75BDp_ih"
      },
      "source": [
        "Повний GloVe містить 4,000,000 векторів і займає багато пам'яті. Щоб уникнути проблем з пам'ятю, залишимо лише 50,000 векторів найчастотніших слів. Це трохи знизить якість моделей, але це зараз не головне."
      ]
    },
    {
      "cell_type": "code",
      "metadata": {
        "id": "rSPkhqoep_ih"
      },
      "source": [
        "import gensim.downloader\n",
        "from gensim.models import KeyedVectors\n",
        "import tqdm\n",
        "\n",
        "\n",
        "# Ця функція завантажить повний набір GloVe векторів та залишить `max_n` з них\n",
        "def load_glove_subset(max_n: int) -> KeyedVectors:\n",
        "    \"\"\"Return top `max_n` word vectors. \"\"\"\n",
        "    all_glove = gensim.downloader.load(\"glove-wiki-gigaword-200\")\n",
        "    subset = KeyedVectors(all_glove.vector_size)\n",
        "    for word in tqdm.tqdm(all_glove.key_to_index, total=max_n):\n",
        "        if len(subset.vectors) >= max_n:\n",
        "            break\n",
        "        subset.add_vector(word, all_glove[word])\n",
        "    return subset\n",
        "\n",
        "# Цей виклик може зайняти хвилин 5-6, тож ми завантажимо вже готові 50k векторів\n",
        "# glove = load_glove_subset(50_000)\n",
        "glove = KeyedVectors.load(\"http://nlp.band/static/files/glove-50k.bin\")"
      ],
      "execution_count": 4,
      "outputs": []
    },
    {
      "cell_type": "code",
      "metadata": {
        "id": "YuDtSmvUp_ih",
        "outputId": "bafed1e0-90e2-4b3b-98bc-a186e36fd4e1",
        "colab": {
          "base_uri": "https://localhost:8080/"
        }
      },
      "source": [
        "lab.checkpoint(\"glove subset size\", len(glove.key_to_index))"
      ],
      "execution_count": 5,
      "outputs": [
        {
          "output_type": "execute_result",
          "data": {
            "text/plain": [
              "50000"
            ]
          },
          "metadata": {},
          "execution_count": 5
        }
      ]
    },
    {
      "cell_type": "markdown",
      "metadata": {
        "id": "tF-kK2QNp_ii"
      },
      "source": [
        "Об'єкт `glove` може працювати як звичайний словник (`dict`), ключами якого є токени, а значеннями - вектори слів. Вектори, які ми завантажили, були натреновані на lower-cased текстах, тож і шукати вектори треба для слів у нижньому регістрі.\n",
        "\n",
        "Подивимося, як виглядає вектор слова \"ukraine\":"
      ]
    },
    {
      "cell_type": "code",
      "metadata": {
        "id": "r4BB69fpp_ii",
        "outputId": "c1b775da-5fb7-4806-e27c-8c33b6ead39d",
        "colab": {
          "base_uri": "https://localhost:8080/"
        }
      },
      "source": [
        "glove[\"ukraine\"]"
      ],
      "execution_count": 6,
      "outputs": [
        {
          "output_type": "execute_result",
          "data": {
            "text/plain": [
              "array([-2.9835e-01,  2.0119e-01,  1.0576e+00, -3.0105e-01, -4.6139e-01,\n",
              "       -2.3603e-02,  7.0583e-01,  2.5945e-01,  2.8852e-01,  5.5536e-01,\n",
              "       -4.9120e-01,  2.6961e-01, -2.4428e-02, -2.1458e-02,  1.1455e+00,\n",
              "        6.8221e-01, -2.9128e-01, -2.2623e-01, -2.0675e-01,  1.3855e-01,\n",
              "       -1.8925e-01,  2.3665e+00, -9.9162e-01, -2.4470e-01,  2.4622e-01,\n",
              "       -1.1827e-01,  3.8615e-01, -2.6921e-01, -3.8376e-02, -5.2927e-01,\n",
              "       -8.2827e-02, -2.8802e-01, -4.3625e-01, -2.1721e-01, -9.3741e-01,\n",
              "        4.2792e-01, -8.3241e-01, -3.7487e-02, -5.8459e-01, -5.4755e-01,\n",
              "       -5.6027e-01,  1.8893e-01,  1.4222e-01,  2.0484e-01,  2.0384e-01,\n",
              "       -3.7074e-01,  4.3972e-01, -3.4872e-01,  1.2722e-01, -4.1341e-01,\n",
              "        7.1163e-01, -6.5506e-01, -4.4388e-01,  1.9223e-01, -3.9496e-01,\n",
              "       -6.6644e-01, -5.9630e-01, -7.9109e-02,  5.3330e-01,  9.3981e-01,\n",
              "       -7.1796e-01,  5.0569e-01,  6.4526e-01, -2.6927e-01,  3.8530e-01,\n",
              "        5.5825e-01,  6.5299e-02,  3.5928e-01,  2.3044e-01, -2.3363e-01,\n",
              "       -3.4764e-01, -2.6259e-01, -3.5650e-01,  8.7308e-02,  6.3534e-03,\n",
              "        8.7591e-01,  9.6984e-01,  2.8882e-01,  2.2812e-01, -7.4721e-01,\n",
              "        3.5001e-01,  6.5224e-02,  7.2988e-02,  1.5855e-01,  1.0770e-01,\n",
              "        3.2646e-01,  1.2247e+00,  3.6862e-01,  9.3199e-03,  1.0328e+00,\n",
              "       -5.6262e-01, -6.0122e-01, -6.4004e-01,  8.4209e-02,  1.1252e-01,\n",
              "       -4.1762e-01,  2.4943e-01,  6.5349e-01, -3.3857e-01, -8.9108e-01,\n",
              "       -1.6143e-01,  1.5234e-01,  3.8019e-01, -2.2463e-01,  5.3187e-01,\n",
              "        2.0275e-01,  7.4827e-01,  2.1269e-03,  6.8026e-02,  4.9344e-01,\n",
              "       -5.6646e-02,  6.3483e-02,  1.5148e-01,  5.3305e-02, -8.6552e-02,\n",
              "       -3.0694e-01, -8.3492e-01,  2.0098e-01,  2.4859e-01,  3.8784e-01,\n",
              "        3.4552e-02,  3.3257e-01,  7.4707e-01,  3.8321e-02,  2.0577e-01,\n",
              "       -2.7564e-01, -1.2181e-01, -8.7897e-01, -6.5607e-01, -2.4257e-03,\n",
              "       -4.6293e-01,  1.8553e-01, -3.4278e-01, -1.2678e-02,  5.2719e-02,\n",
              "        9.3471e-01,  5.3082e-01, -3.9921e-01,  5.6133e-02, -2.4430e-01,\n",
              "       -5.7601e-02,  2.1594e-01,  1.6733e-01,  4.7893e-01,  1.2833e+00,\n",
              "        1.4757e-01, -1.0047e+00, -4.5096e-01, -3.5147e-01,  1.0449e-01,\n",
              "       -4.2504e-01, -4.2430e-01,  1.3246e+00, -2.0544e-01, -4.0672e-01,\n",
              "       -4.3736e-01, -7.5699e-01, -1.9572e-01,  2.4839e-01,  2.3417e-01,\n",
              "       -3.0520e-03, -3.8317e-02, -1.4994e-01,  5.5187e-01, -1.3833e-02,\n",
              "       -8.7009e-01,  7.1977e-02, -3.7050e-01,  4.2174e-01,  3.9286e-01,\n",
              "       -1.8223e-01,  1.6104e-02, -9.0028e-02, -4.1523e-01,  7.9170e-01,\n",
              "        2.3045e-01, -2.1922e-01, -8.2521e-02,  3.4879e-01, -6.8577e-02,\n",
              "        1.2721e+00, -9.0795e-01, -3.5047e-01,  5.7275e-01,  3.7799e-02,\n",
              "       -1.4918e-01,  5.1037e-01,  7.9989e-01,  3.6941e-01, -2.8492e-01,\n",
              "        2.4037e-01,  5.7408e-01, -1.4284e+00,  5.0285e-01, -6.3008e-02,\n",
              "        4.6877e-01,  2.7331e-01, -4.2540e-01, -9.2404e-02,  4.0136e-01],\n",
              "      dtype=float32)"
            ]
          },
          "metadata": {},
          "execution_count": 6
        }
      ]
    },
    {
      "cell_type": "markdown",
      "metadata": {
        "id": "klYwg9-zysid"
      },
      "source": [
        "### Завдання\n",
        "\n",
        "Знайдіть кількість та середнє значення (mean) елементів вектора слова \"ukraine\""
      ]
    },
    {
      "cell_type": "code",
      "metadata": {
        "collapsed": true,
        "id": "4qgn5fNap_ij",
        "outputId": "821946db-bf68-4aed-87c5-1d0312995053",
        "colab": {
          "base_uri": "https://localhost:8080/",
          "height": 36
        }
      },
      "source": [
        "##########################\n",
        "# ВАШ КОД ТУТ:\n",
        "size_v_ukraine = int(glove[\"ukraine\"].shape[0])\n",
        "mean_v_ukraine = glove[\"ukraine\"].mean()\n",
        "##########################\n",
        "lab.checkpoint(\"size of 'ukraine'\", size_v_ukraine)\n",
        "lab.checkpoint(\"mean of 'ukraine'\", mean_v_ukraine)"
      ],
      "execution_count": 7,
      "outputs": [
        {
          "output_type": "execute_result",
          "data": {
            "text/plain": [
              "'0.03348933'"
            ],
            "application/vnd.google.colaboratory.intrinsic+json": {
              "type": "string"
            }
          },
          "metadata": {},
          "execution_count": 7
        }
      ]
    },
    {
      "cell_type": "markdown",
      "metadata": {
        "id": "NvJrv3Spy9YG"
      },
      "source": [
        "# Подібність слів"
      ]
    },
    {
      "cell_type": "markdown",
      "metadata": {
        "id": "M91XgJEYp_ij"
      },
      "source": [
        "### Косинус подібності (cosine similarity)\n",
        "\n",
        "Дуже часто метрикою близькості двох векторів слугує косинус подібності (cosine similarity). Косинус кута між двома векторами буде дорівнювати 1, коли напрями векторів точно збігаються. Для ортогональних векторів косинус дорівнює 0, а для протилежних -1.\n",
        "\n",
        "Косинус кута можна порахувати через векторний добуток:\n",
        "\n",
        "$$ \\text{similarity}(p, q) = \\cos {\\theta} = \\frac {p \\cdot q} {|p| |q|} $$\n",
        "\n",
        "$|x|$ означає довжину вектора $x$:\n",
        "\n",
        "$$|x| = \\sqrt {x ^ 2} $$"
      ]
    },
    {
      "cell_type": "markdown",
      "metadata": {
        "id": "5KQJVzahxVVb"
      },
      "source": [
        "### Завдання\n",
        "\n",
        "Напишіть функцію обчислення cosine similarity"
      ]
    },
    {
      "cell_type": "code",
      "metadata": {
        "id": "5rLfn04_p_ij",
        "outputId": "404abf43-35e9-4b48-90d6-0a9e1295d2ef",
        "colab": {
          "base_uri": "https://localhost:8080/"
        }
      },
      "source": [
        "import numpy as np\n",
        "from math import isclose\n",
        "\n",
        "def normalize(v):\n",
        "    return v / np.sqrt(v @ v)\n",
        "\n",
        "def cosine_similarity(v1: np.ndarray, v2: np.ndarray) -> float:\n",
        "    ##########################\n",
        "    # ВАШ КОД ТУТ:\n",
        "    normalized_1 = normalize(v1)\n",
        "    normalized_2 = normalize(v2)\n",
        "    ##########################\n",
        "    similarity = float(np.dot(normalized_1, normalized_2))\n",
        "    return similarity\n",
        "\n",
        "# Знайдіть косинус подібності слів \"apple\" та \"google\"\n",
        "cos_0 = cosine_similarity(glove[\"apple\"], glove[\"google\"])\n",
        "assert isinstance(cos_0, float)\n",
        "lab.checkpoint(\"cosine similarity between 'apple' and 'google'\", float(cos_0))"
      ],
      "execution_count": 8,
      "outputs": [
        {
          "output_type": "stream",
          "name": "stdout",
          "text": [
            "Відповідь правильна ✅\n",
            "Так, вірно! 💪\n"
          ]
        },
        {
          "output_type": "execute_result",
          "data": {
            "text/plain": [
              "0.5554561018943787"
            ]
          },
          "metadata": {},
          "execution_count": 8
        }
      ]
    },
    {
      "cell_type": "markdown",
      "metadata": {
        "id": "6bLSgXhBp_ik"
      },
      "source": [
        "### Завдання\n",
        "\n",
        "Знайти подібність словa \"awesome\" до слів \"amazing\", great\" та \"bad\""
      ]
    },
    {
      "cell_type": "code",
      "metadata": {
        "id": "UoDFdtEsp_ik",
        "outputId": "ef833edf-f935-4c4b-e4bd-7923586f246f",
        "colab": {
          "base_uri": "https://localhost:8080/"
        }
      },
      "source": [
        "cos_1 = cosine_similarity(glove['awesome'], glove['amazing'])\n",
        "lab.checkpoint(\"cosine_similarity between 'awesome' and 'amazing'\", cos_1)"
      ],
      "execution_count": 9,
      "outputs": [
        {
          "output_type": "execute_result",
          "data": {
            "text/plain": [
              "0.6967080235481262"
            ]
          },
          "metadata": {},
          "execution_count": 9
        }
      ]
    },
    {
      "cell_type": "code",
      "metadata": {
        "id": "cyKNoP0vp_ik",
        "outputId": "e25c1e87-553e-4f7e-c2a1-726496f07a5f",
        "colab": {
          "base_uri": "https://localhost:8080/"
        }
      },
      "source": [
        "cos_2 =  cosine_similarity(glove['awesome'], glove['great'])\n",
        "lab.checkpoint(\"cosine_similarity between 'awesome' and 'great'\", cos_2)"
      ],
      "execution_count": 10,
      "outputs": [
        {
          "output_type": "execute_result",
          "data": {
            "text/plain": [
              "0.45695698261260986"
            ]
          },
          "metadata": {},
          "execution_count": 10
        }
      ]
    },
    {
      "cell_type": "code",
      "metadata": {
        "id": "GhceuIigp_il",
        "outputId": "9fd54ae2-499f-41ae-e13d-6154b46e2ca7",
        "colab": {
          "base_uri": "https://localhost:8080/"
        }
      },
      "source": [
        "cos_3 =  cosine_similarity(glove['awesome'], glove['bad'])\n",
        "lab.checkpoint(\"cosine_similarity between 'awesome' and 'bad'\", cos_3)"
      ],
      "execution_count": 11,
      "outputs": [
        {
          "output_type": "execute_result",
          "data": {
            "text/plain": [
              "0.3114391565322876"
            ]
          },
          "metadata": {},
          "execution_count": 11
        }
      ]
    },
    {
      "cell_type": "markdown",
      "metadata": {
        "id": "0qdP0X3Op_il"
      },
      "source": [
        "## Пошук подібних слів\n",
        "\n",
        "Завдяки векторному представленню, ми можемо уявляти собі слова точками в багатовимірному просторі. Близькі за семантикою (змістом) або морфологією (як одиниці мови) слова будуть відповідати близькими між собою точками.\n",
        "\n",
        "Атож, найближчі сусіди слова будуть або синонимами, або антонімами, або виконувати ту саму роль в реченні.\n",
        "\n",
        "Як знайти сусідів вектора певного слова? Наївне рішення — перебрати всі вектори і обчислити відстань до кожного з них. Для великих словників це може зайняти багато часу. Для великих словників або коли необхідно робити багато запитів, використовують методи приблизного пошуку векторів, такі як LSH або [faiss](https://github.com/facebookresearch/faiss). Ці методи попередньо будують індекси для векторів, які дозволяють здійснювати пошук подібних векторів дуже швидко (і з маленькою, але ненульовою ймовірністю пропускати деяких сусідів)\n",
        "\n",
        "Оскільки наш словник є дуже невеликим (50 тисяч токенів), то можемо дозволити собі наївне рішення."
      ]
    },
    {
      "cell_type": "code",
      "metadata": {
        "id": "NukM7Ssnp_il",
        "outputId": "d15a1fe0-7dd5-477b-8559-aac871e81b9f",
        "colab": {
          "base_uri": "https://localhost:8080/"
        }
      },
      "source": [
        "from typing import List, Tuple\n",
        "from heapq import nlargest\n",
        "\n",
        "def find_similar(word: str , top_n: int = 10) -> List[Tuple[float, str]]:\n",
        "    \"\"\"Повертає `top_n` сусідів слова `word` разом з подібністю.\n",
        "\n",
        "    Returns:\n",
        "        list of (similarity, word) tuples.\n",
        "    \"\"\"\n",
        "    target_vector = glove[word]\n",
        "\n",
        "\n",
        "    similarity_scores = [\n",
        "        (cosine_similarity(target_vector, glove[candidate]), candidate)\n",
        "        for candidate in glove.key_to_index if candidate != word\n",
        "    ]\n",
        "\n",
        "\n",
        "    result = nlargest(top_n, similarity_scores, key=lambda x: x[0])\n",
        "\n",
        "    return result\n",
        "\n",
        "\n",
        "find_similar(\"awesome\")"
      ],
      "execution_count": 12,
      "outputs": [
        {
          "output_type": "execute_result",
          "data": {
            "text/plain": [
              "[(0.7240041494369507, 'unbelievable'),\n",
              " (0.7075759172439575, 'incredible'),\n",
              " (0.6967080235481262, 'amazing'),\n",
              " (0.6145412921905518, 'fantastic'),\n",
              " (0.6071451306343079, 'terrific'),\n",
              " (0.5814316868782043, 'marvelous'),\n",
              " (0.5781935453414917, 'awful'),\n",
              " (0.5776978135108948, 'wonderful'),\n",
              " (0.5741086602210999, 'phenomenal'),\n",
              " (0.5519749522209167, 'tremendous')]"
            ]
          },
          "metadata": {},
          "execution_count": 12
        }
      ]
    },
    {
      "cell_type": "code",
      "source": [
        "find_similar(\"awful\")"
      ],
      "metadata": {
        "id": "rGWl20KUrs8K",
        "outputId": "b15116e2-a2b4-4a00-a74c-2cfb0a0e9807",
        "colab": {
          "base_uri": "https://localhost:8080/"
        }
      },
      "execution_count": 13,
      "outputs": [
        {
          "output_type": "execute_result",
          "data": {
            "text/plain": [
              "[(0.8684825897216797, 'horrible'),\n",
              " (0.8322069644927979, 'terrible'),\n",
              " (0.7476429343223572, 'dreadful'),\n",
              " (0.6913045644760132, 'unbelievable'),\n",
              " (0.6799401044845581, 'horrendous'),\n",
              " (0.6458765864372253, 'appalling'),\n",
              " (0.6423128843307495, 'really'),\n",
              " (0.6418579816818237, 'bad'),\n",
              " (0.6389516592025757, 'horrifying'),\n",
              " (0.6362232565879822, 'thing')]"
            ]
          },
          "metadata": {},
          "execution_count": 13
        }
      ]
    },
    {
      "cell_type": "code",
      "metadata": {
        "id": "DFo9LnZFp_im",
        "outputId": "103c9239-2df9-4308-a752-e7df64bc6c9d",
        "colab": {
          "base_uri": "https://localhost:8080/"
        }
      },
      "source": [
        "find_similar(\"green\")"
      ],
      "execution_count": 14,
      "outputs": [
        {
          "output_type": "execute_result",
          "data": {
            "text/plain": [
              "[(0.6953294277191162, 'red'),\n",
              " (0.6699603796005249, 'yellow'),\n",
              " (0.6597475409507751, 'blue'),\n",
              " (0.6384711861610413, 'brown'),\n",
              " (0.6299036145210266, 'orange'),\n",
              " (0.6277689933776855, 'purple'),\n",
              " (0.6158420443534851, 'bright'),\n",
              " (0.6116896867752075, 'black'),\n",
              " (0.585483968257904, 'pink'),\n",
              " (0.5821937918663025, 'white')]"
            ]
          },
          "metadata": {},
          "execution_count": 14
        }
      ]
    },
    {
      "cell_type": "code",
      "source": [
        "lab.checkpoint(\"most similar to 'green'\", find_similar(\"green\")[0][1])"
      ],
      "metadata": {
        "id": "rSerrJMyry4-",
        "outputId": "6a9b060a-7c9a-4c1e-d0c1-68af0db9236b",
        "colab": {
          "base_uri": "https://localhost:8080/",
          "height": 36
        }
      },
      "execution_count": 15,
      "outputs": [
        {
          "output_type": "execute_result",
          "data": {
            "text/plain": [
              "'red'"
            ],
            "application/vnd.google.colaboratory.intrinsic+json": {
              "type": "string"
            }
          },
          "metadata": {},
          "execution_count": 15
        }
      ]
    },
    {
      "cell_type": "markdown",
      "metadata": {
        "id": "DeofmcCAp_in"
      },
      "source": [
        "Бібліотека `gensim`, за допомогою якої ми завантажували вектори, також вміє робити пошук подібних векторів, але значно швидше. Порівняємо з нашою імплементацією:"
      ]
    },
    {
      "cell_type": "code",
      "metadata": {
        "id": "4AlaIT8Yp_in",
        "outputId": "41609c67-0f29-4527-c36e-5f7430691895",
        "colab": {
          "base_uri": "https://localhost:8080/"
        }
      },
      "source": [
        "glove.most_similar(\"facebook\")"
      ],
      "execution_count": 16,
      "outputs": [
        {
          "output_type": "execute_result",
          "data": {
            "text/plain": [
              "[('twitter', 0.8435288667678833),\n",
              " ('myspace', 0.8185951113700867),\n",
              " ('youtube', 0.7537195086479187),\n",
              " ('google', 0.671447217464447),\n",
              " ('blogs', 0.6526655554771423),\n",
              " ('blog', 0.6467068195343018),\n",
              " ('web', 0.6389559507369995),\n",
              " ('website', 0.6388846039772034),\n",
              " ('zuckerberg', 0.6286188960075378),\n",
              " ('websites', 0.6250429749488831)]"
            ]
          },
          "metadata": {},
          "execution_count": 16
        }
      ]
    },
    {
      "cell_type": "code",
      "metadata": {
        "id": "GgRK3Vj9p_in",
        "outputId": "99f85487-0998-454b-ddf0-373536e0ddfb",
        "colab": {
          "base_uri": "https://localhost:8080/"
        }
      },
      "source": [
        "find_similar(\"facebook\")"
      ],
      "execution_count": 17,
      "outputs": [
        {
          "output_type": "execute_result",
          "data": {
            "text/plain": [
              "[(0.8435288071632385, 'twitter'),\n",
              " (0.8185950517654419, 'myspace'),\n",
              " (0.7537195086479187, 'youtube'),\n",
              " (0.6714472770690918, 'google'),\n",
              " (0.6526655554771423, 'blogs'),\n",
              " (0.646706759929657, 'blog'),\n",
              " (0.6389558911323547, 'web'),\n",
              " (0.6388846039772034, 'website'),\n",
              " (0.6286188364028931, 'zuckerberg'),\n",
              " (0.6250429749488831, 'websites')]"
            ]
          },
          "metadata": {},
          "execution_count": 17
        }
      ]
    },
    {
      "cell_type": "markdown",
      "metadata": {
        "id": "0HMdK4nwp_in"
      },
      "source": [
        "### Завдання\n",
        "\n",
        "Знайдіть найближчого сусіда до слова `cat` (одне слово)"
      ]
    },
    {
      "cell_type": "code",
      "metadata": {
        "id": "C4smTuENp_io",
        "outputId": "d7c0036a-4f2c-42cb-dff0-87cb4b036fbc",
        "colab": {
          "base_uri": "https://localhost:8080/",
          "height": 36
        }
      },
      "source": [
        "cat_top_synonym = find_similar(\"cat\")[0][1]\n",
        "assert isinstance(cat_top_synonym, str)\n",
        "lab.checkpoint(\"Most similar word to `cat`\", cat_top_synonym)"
      ],
      "execution_count": 18,
      "outputs": [
        {
          "output_type": "execute_result",
          "data": {
            "text/plain": [
              "'dog'"
            ],
            "application/vnd.google.colaboratory.intrinsic+json": {
              "type": "string"
            }
          },
          "metadata": {},
          "execution_count": 18
        }
      ]
    },
    {
      "cell_type": "markdown",
      "metadata": {
        "id": "Q_5QUDc8p_io"
      },
      "source": [
        "### Завдання\n",
        "\n",
        "Спробуйте функцію `find_similar` на різних словах. Які пари здалися вам найбільш цікавими, дивними або нелогічними?"
      ]
    },
    {
      "cell_type": "code",
      "metadata": {
        "id": "2ohxvKgdp_io",
        "outputId": "74e59e7f-9c09-4611-c314-c41935961e52",
        "colab": {
          "base_uri": "https://localhost:8080/"
        }
      },
      "source": [
        "find_similar('hello', 20)"
      ],
      "execution_count": 25,
      "outputs": [
        {
          "output_type": "execute_result",
          "data": {
            "text/plain": [
              "[(0.6602526903152466, 'goodbye'),\n",
              " (0.6129173040390015, '!'),\n",
              " (0.5987921357154846, 'hey'),\n",
              " (0.5414456129074097, 'dolly'),\n",
              " (0.5124996900558472, 'yeah'),\n",
              " (0.49999743700027466, '`'),\n",
              " (0.4906267821788788, 'wow'),\n",
              " (0.4800094962120056, 'dear'),\n",
              " (0.47699400782585144, 'daddy'),\n",
              " (0.4766666889190674, 'thank'),\n",
              " (0.45867711305618286, 'mister'),\n",
              " (0.45781823992729187, 'bitch'),\n",
              " (0.45235535502433777, 'mom'),\n",
              " (0.44683530926704407, 'yes'),\n",
              " (0.4460812211036682, 'exclaimed'),\n",
              " (0.44435495138168335, 'whoa'),\n",
              " (0.4383475184440613, 'bye'),\n",
              " (0.4374588429927826, 'greeting'),\n",
              " (0.43563398718833923, 'kitty'),\n",
              " (0.43522682785987854, 'stranger')]"
            ]
          },
          "metadata": {},
          "execution_count": 25
        }
      ]
    },
    {
      "cell_type": "code",
      "source": [
        "interesting_pair = ('hello', 'bitch')\n",
        "lab.checkpoint(\"Interesting/strange pairs\", interesting_pair)"
      ],
      "metadata": {
        "id": "Mu_f-cDT2L5_",
        "outputId": "20f5415f-4807-487f-a352-f55f8609e50b",
        "colab": {
          "base_uri": "https://localhost:8080/"
        }
      },
      "execution_count": 26,
      "outputs": [
        {
          "output_type": "execute_result",
          "data": {
            "text/plain": [
              "('hello', 'bitch')"
            ]
          },
          "metadata": {},
          "execution_count": 26
        }
      ]
    },
    {
      "cell_type": "markdown",
      "metadata": {
        "id": "w8hSUqOKp_io"
      },
      "source": [
        "# Візуалізація"
      ]
    },
    {
      "cell_type": "code",
      "metadata": {
        "id": "u9eWNpVfp_ip"
      },
      "source": [
        "from sklearn import manifold\n",
        "import matplotlib.pyplot as plt\n",
        "\n",
        "\n",
        "def plot_word_embeddings(model, search_list):\n",
        "    words = []\n",
        "    for term in search_list:\n",
        "        words += [w[0] for w in model.most_similar([term], topn=5)]\n",
        "    words += search_list\n",
        "    words = list(set(words))\n",
        "\n",
        "    vectors = model[words]\n",
        "\n",
        "    tsne = manifold.TSNE(n_components=2, random_state=0, n_iter=10000, perplexity=7)\n",
        "    T = tsne.fit_transform(vectors)\n",
        "\n",
        "    plt.figure(figsize=(16, 10))\n",
        "    plt.scatter(T[:, 0], T[:, 1])\n",
        "    for label, x, y in zip(words, T[:, 0], T[:, 1]):\n",
        "        plt.annotate(label, xy=(x+2, y+2), xytext=(0, 0), textcoords='offset points')"
      ],
      "execution_count": 27,
      "outputs": []
    },
    {
      "cell_type": "code",
      "metadata": {
        "id": "GXy_byPUp_ip",
        "outputId": "01d7a20d-5587-4642-f1cb-42fa1d4ce11f",
        "colab": {
          "base_uri": "https://localhost:8080/",
          "height": 875
        }
      },
      "source": [
        "plot_word_embeddings(glove, [\"awesome\", \"terrible\", \"ukraine\", \"poland\", \"france\", \"red\", \"green\", \"cat\", \"two\"])"
      ],
      "execution_count": 28,
      "outputs": [
        {
          "output_type": "stream",
          "name": "stderr",
          "text": [
            "/usr/local/lib/python3.10/dist-packages/sklearn/manifold/_t_sne.py:1162: FutureWarning: 'n_iter' was renamed to 'max_iter' in version 1.5 and will be removed in 1.7.\n",
            "  warnings.warn(\n"
          ]
        },
        {
          "output_type": "display_data",
          "data": {
            "text/plain": [
              "<Figure size 1600x1000 with 1 Axes>"
            ],
            "image/png": "[encoded data removed]"
          },
          "metadata": {}
        }
      ]
    },
    {
      "cell_type": "markdown",
      "metadata": {
        "id": "5FYwD481p_ip"
      },
      "source": [
        "# Векторна аріфметика\n",
        "\n",
        "Ми можемо додавати та віднімати вектори слів. Результат таких операцій (який теж буде вектором) можна перетворити назад в слово. Для цього знайдемо кілька найближчих до результата векторів і подивимося, які слова їм відповідають.\n",
        "\n",
        "Векторну аріфметику використовують для пошуку слів за аналогіями. Класичний приклад з першої статті про Word2Vec виглядає так:\n",
        "\n",
        "```\n",
        "V(\"king\") - V(\"man\") + V(\"woman\") ~= V(\"queen\")\n",
        "```"
      ]
    },
    {
      "cell_type": "code",
      "metadata": {
        "id": "HtcS8rRip_iq",
        "outputId": "209d99de-eb08-422b-b275-ea24e69ebd2b",
        "colab": {
          "base_uri": "https://localhost:8080/"
        }
      },
      "source": [
        "glove.similar_by_vector(glove[\"king\"] - glove[\"man\"] + glove[\"woman\"])"
      ],
      "execution_count": 29,
      "outputs": [
        {
          "output_type": "execute_result",
          "data": {
            "text/plain": [
              "[('king', 0.8209066987037659),\n",
              " ('queen', 0.7119165658950806),\n",
              " ('princess', 0.6121214628219604),\n",
              " ('monarch', 0.6024806499481201),\n",
              " ('prince', 0.596004068851471),\n",
              " ('throne', 0.5915313363075256),\n",
              " ('daughter', 0.5588055849075317),\n",
              " ('elizabeth', 0.554740309715271),\n",
              " ('kingdom', 0.5494517087936401),\n",
              " ('mother', 0.5419816970825195)]"
            ]
          },
          "metadata": {},
          "execution_count": 29
        }
      ]
    },
    {
      "cell_type": "markdown",
      "metadata": {
        "id": "JWyNFYd7p_iq"
      },
      "source": [
        "### Завдання\n",
        "\n",
        "Знайдіть найближчий вектор виразу\n",
        "`paris` - `france` + `ukraine`"
      ]
    },
    {
      "cell_type": "code",
      "metadata": {
        "collapsed": true,
        "id": "fBsg7ZAUp_ir",
        "outputId": "0df8c976-1645-4b4f-82f6-8f24b1585d0e",
        "colab": {
          "base_uri": "https://localhost:8080/",
          "height": 73
        }
      },
      "source": [
        "answer = glove.similar_by_vector(glove[\"paris\"] - glove[\"france\"] + glove[\"ukraine\"])[0][0]\n",
        "lab.answer(answer)   # мені теж не подобається те, як написана відповідь :)"
      ],
      "execution_count": 30,
      "outputs": [
        {
          "output_type": "stream",
          "name": "stdout",
          "text": [
            "Відповідь правильна ✅\n",
            "Так, вірно! 💪\n"
          ]
        },
        {
          "output_type": "execute_result",
          "data": {
            "text/plain": [
              "'kiev'"
            ],
            "application/vnd.google.colaboratory.intrinsic+json": {
              "type": "string"
            }
          },
          "metadata": {},
          "execution_count": 30
        }
      ]
    },
    {
      "cell_type": "markdown",
      "source": [
        "# Готово!\n",
        "\n",
        "На наступному занятті ми:\n",
        "- Використаємо ембедінги слів для класифікації текстів\n",
        "- Дізнаємося, як влаштований word2vec\n",
        "- Напишемо свою імплементацію word2vec\n",
        "- Подивимося, як обійти проблему несловникових токенів\n"
      ],
      "metadata": {
        "id": "lTXyVVLf3WIn"
      }
    }
  ]
}